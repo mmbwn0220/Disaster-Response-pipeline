{
 "cells": [
  {
   "cell_type": "markdown",
   "metadata": {},
   "source": [
    "# ML Pipeline Preparation\n",
    "Follow the instructions below to help you create your ML pipeline.\n",
    "### 1. Import libraries and load data from database.\n",
    "- Import Python libraries\n",
    "- Load dataset from database with [`read_sql_table`](https://pandas.pydata.org/pandas-docs/stable/generated/pandas.read_sql_table.html)\n",
    "- Define feature and target variables X and Y"
   ]
  },
  {
   "cell_type": "code",
   "execution_count": 11,
   "metadata": {},
   "outputs": [
    {
     "name": "stdout",
     "output_type": "stream",
     "text": [
      "[nltk_data] Downloading package punkt to /root/nltk_data...\n",
      "[nltk_data]   Package punkt is already up-to-date!\n",
      "[nltk_data] Downloading package stopwords to /root/nltk_data...\n",
      "[nltk_data]   Package stopwords is already up-to-date!\n",
      "[nltk_data] Downloading package wordnet to /root/nltk_data...\n",
      "[nltk_data]   Package wordnet is already up-to-date!\n"
     ]
    }
   ],
   "source": [
    "# import libraries\n",
    "import pandas as pd\n",
    "import numpy as np\n",
    "from sqlalchemy import create_engine\n",
    "import sqlite3\n",
    "import nltk\n",
    "import re\n",
    "nltk.download(['punkt','stopwords','wordnet'])\n",
    "from nltk.corpus import stopwords\n",
    "from nltk.tokenize import word_tokenize\n",
    "from nltk.stem import WordNetLemmatizer\n",
    "from nltk.stem.porter import PorterStemmer\n",
    "from sklearn.pipeline import Pipeline\n",
    "from sklearn.feature_extraction.text import CountVectorizer, TfidfTransformer\n",
    "from sklearn.ensemble import RandomForestClassifier,AdaBoostClassifier\n",
    "from sklearn.metrics import confusion_matrix\n",
    "from sklearn.model_selection import train_test_split\n",
    "from sklearn.metrics import classification_report\n",
    "from sklearn.model_selection import GridSearchCV\n",
    "from nltk.tokenize import word_tokenize\n",
    "from nltk.stem import WordNetLemmatizer\n",
    "from sklearn.multioutput import MultiOutputClassifier\n",
    "import pickle\n"
   ]
  },
  {
   "cell_type": "code",
   "execution_count": 2,
   "metadata": {},
   "outputs": [],
   "source": [
    "# load data from database\n",
    "def load_data(database_filepath='yfdb.db',tablename='table_df'):\n",
    "    \"\"\"\n",
    "    INPUT:\n",
    "        database_filepath (string) : database location\n",
    "    OUTPUT:\n",
    "        X  : messages to process\n",
    "        Y  : training/evaluating categories\n",
    "        labels  : list of message classification labels\n",
    "    \"\"\"\n",
    "    engine = create_engine('sqlite:///' + database_filepath)\n",
    "    df = pd.read_sql_table(tablename, con = engine)\n",
    "    X = df['message'] \n",
    "    Y = df.drop(['message', 'genre', 'id', 'original'], axis = 1)\n",
    "    return X, Y,list(Y.columns)"
   ]
  },
  {
   "cell_type": "code",
   "execution_count": 3,
   "metadata": {},
   "outputs": [],
   "source": [
    "X,Y,category_names=load_data()"
   ]
  },
  {
   "cell_type": "markdown",
   "metadata": {},
   "source": [
    "### 2. Write a tokenization function to process your text data"
   ]
  },
  {
   "cell_type": "code",
   "execution_count": 4,
   "metadata": {},
   "outputs": [],
   "source": [
    "def tokenize(text):\n",
    "    \"\"\"\n",
    "    Remove capitalization and special characters and lemmatize texts\n",
    "    Args:\n",
    "    text: string. String containing message for processing\n",
    "    \n",
    "    Returns:\n",
    "    clean_tokens: list of strings. List containing normalized and stemmed word tokens\n",
    "    \"\"\" \n",
    "    # Convert text to lowercase and remove punctuation\n",
    "    text = re.sub(r\"[^a-zA-Z0-9]\", \" \", text.lower())\n",
    "    \n",
    "    # Tokenize words\n",
    "    tokens = word_tokenize(text)\n",
    "    lemmatizer = WordNetLemmatizer()\n",
    "\n",
    "    clean_tokens = []\n",
    "    for tok in tokens:\n",
    "        clean_tok = lemmatizer.lemmatize(tok).lower().strip()\n",
    "        clean_tokens.append(clean_tok)\n",
    "    return clean_tokens\n"
   ]
  },
  {
   "cell_type": "markdown",
   "metadata": {},
   "source": [
    "### 3. Build a machine learning pipeline\n",
    "This machine pipeline should take in the `message` column as input and output classification results on the other 36 categories in the dataset. You may find the [MultiOutputClassifier](http://scikit-learn.org/stable/modules/generated/sklearn.multioutput.MultiOutputClassifier.html) helpful for predicting multiple target variables."
   ]
  },
  {
   "cell_type": "code",
   "execution_count": 5,
   "metadata": {},
   "outputs": [],
   "source": [
    "   pipeline = Pipeline([\n",
    "        ('vect', CountVectorizer(tokenizer = tokenize)),\n",
    "        ('tfidf', TfidfTransformer()),\n",
    "        ('clf', MultiOutputClassifier(RandomForestClassifier(n_estimators = 10,\n",
    "                                                             min_samples_split = 10)))\n",
    "    ])"
   ]
  },
  {
   "cell_type": "markdown",
   "metadata": {},
   "source": [
    "### 4. Train pipeline\n",
    "- Split data into train and test sets\n",
    "- Train pipeline"
   ]
  },
  {
   "cell_type": "code",
   "execution_count": 6,
   "metadata": {
    "scrolled": false
   },
   "outputs": [
    {
     "data": {
      "text/plain": [
       "Pipeline(memory=None,\n",
       "     steps=[('vect', CountVectorizer(analyzer='word', binary=False, decode_error='strict',\n",
       "        dtype=<class 'numpy.int64'>, encoding='utf-8', input='content',\n",
       "        lowercase=True, max_df=1.0, max_features=None, min_df=1,\n",
       "        ngram_range=(1, 1), preprocessor=None, stop_words=None,\n",
       "        strip...oob_score=False, random_state=None, verbose=0,\n",
       "            warm_start=False),\n",
       "           n_jobs=1))])"
      ]
     },
     "execution_count": 6,
     "metadata": {},
     "output_type": "execute_result"
    }
   ],
   "source": [
    "#Split data into train and test tests.\n",
    "X_train, X_test, y_train, y_test = train_test_split(X,Y,test_size = 0.2,  random_state = 42)\n",
    "\n",
    "# Train the model.\n",
    "pipeline.fit(X_train, y_train)"
   ]
  },
  {
   "cell_type": "markdown",
   "metadata": {},
   "source": [
    "### 5. Test your model\n",
    "Report the f1 score, precision and recall for each output category of the dataset. You can do this by iterating through the columns and calling sklearn's `classification_report` on each."
   ]
  },
  {
   "cell_type": "code",
   "execution_count": 7,
   "metadata": {},
   "outputs": [
    {
     "name": "stdout",
     "output_type": "stream",
     "text": [
      "                        precision    recall  f1-score   support\n",
      "\n",
      "               related       0.85      0.45      0.59       895\n",
      "               request       0.00      0.00      0.00        26\n",
      "                 offer       0.72      0.62      0.67      2131\n",
      "           aid_related       0.57      0.09      0.16       422\n",
      "          medical_help       0.67      0.07      0.13       270\n",
      "      medical_products       0.75      0.02      0.05       127\n",
      "     search_and_rescue       1.00      0.01      0.02        88\n",
      "              security       0.65      0.10      0.17       155\n",
      "              military       0.00      0.00      0.00         0\n",
      "           child_alone       0.83      0.31      0.45       339\n",
      "                 water       0.84      0.43      0.57       595\n",
      "                  food       0.78      0.27      0.40       470\n",
      "               shelter       0.33      0.01      0.03        73\n",
      "              clothing       0.80      0.08      0.14       104\n",
      "                 money       1.00      0.03      0.06        60\n",
      "        missing_people       0.79      0.06      0.12       171\n",
      "              refugees       0.85      0.16      0.28       237\n",
      "                 death       0.57      0.04      0.08       695\n",
      "             other_aid       0.25      0.00      0.01       328\n",
      "infrastructure_related       0.64      0.07      0.12       240\n",
      "             transport       0.76      0.07      0.13       267\n",
      "             buildings       1.00      0.07      0.12       122\n",
      "           electricity       0.00      0.00      0.00        32\n",
      "                 tools       0.00      0.00      0.00        46\n",
      "             hospitals       0.00      0.00      0.00        22\n",
      "                 shops       0.00      0.00      0.00        67\n",
      "           aid_centers       0.00      0.00      0.00       223\n",
      "  other_infrastructure       0.83      0.63      0.72      1438\n",
      "       weather_related       0.90      0.32      0.48       411\n",
      "                floods       0.73      0.48      0.58       486\n",
      "                 storm       1.00      0.06      0.11        53\n",
      "                  fire       0.87      0.68      0.76       478\n",
      "            earthquake       0.77      0.09      0.15       117\n",
      "                  cold       0.80      0.03      0.06       276\n",
      "         other_weather       0.75      0.34      0.47      1021\n",
      "\n",
      "           avg / total       0.73      0.35      0.43     12485\n",
      "\n"
     ]
    },
    {
     "name": "stderr",
     "output_type": "stream",
     "text": [
      "/opt/conda/lib/python3.6/site-packages/sklearn/metrics/classification.py:1428: UserWarning: labels size, 35, does not match size of target_names, 36\n",
      "  .format(len(labels), len(target_names))\n",
      "/opt/conda/lib/python3.6/site-packages/sklearn/metrics/classification.py:1135: UndefinedMetricWarning: Precision and F-score are ill-defined and being set to 0.0 in labels with no predicted samples.\n",
      "  'precision', 'predicted', average, warn_for)\n",
      "/opt/conda/lib/python3.6/site-packages/sklearn/metrics/classification.py:1137: UndefinedMetricWarning: Recall and F-score are ill-defined and being set to 0.0 in labels with no true samples.\n",
      "  'recall', 'true', average, warn_for)\n"
     ]
    }
   ],
   "source": [
    "# Test the model and print the classification report for each of the 36 categories.\n",
    "def performance(model, X_test, y_test,category_names):\n",
    "    y_pred = model.predict(X_test)\n",
    "    print(classification_report(y_test.iloc[:,1:].values, np.array([x[1:] for x in y_pred]), target_names=category_names))\n",
    "   \n",
    "performance(pipeline, X_test, y_test,category_names)"
   ]
  },
  {
   "cell_type": "markdown",
   "metadata": {},
   "source": [
    "### 6. Improve your model\n",
    "Use grid search to find better parameters. "
   ]
  },
  {
   "cell_type": "code",
   "execution_count": 8,
   "metadata": {
    "scrolled": false
   },
   "outputs": [
    {
     "name": "stdout",
     "output_type": "stream",
     "text": [
      "Fitting 3 folds for each of 12 candidates, totalling 36 fits\n",
      "[CV] clf__estimator__min_samples_split=2, clf__estimator__n_estimators=10, tfidf__use_idf=True \n",
      "[CV]  clf__estimator__min_samples_split=2, clf__estimator__n_estimators=10, tfidf__use_idf=True, total=  47.7s\n",
      "[CV] clf__estimator__min_samples_split=2, clf__estimator__n_estimators=10, tfidf__use_idf=True \n"
     ]
    },
    {
     "name": "stderr",
     "output_type": "stream",
     "text": [
      "[Parallel(n_jobs=-1)]: Done   1 out of   1 | elapsed:   57.0s remaining:    0.0s\n"
     ]
    },
    {
     "name": "stdout",
     "output_type": "stream",
     "text": [
      "[CV]  clf__estimator__min_samples_split=2, clf__estimator__n_estimators=10, tfidf__use_idf=True, total=  47.2s\n",
      "[CV] clf__estimator__min_samples_split=2, clf__estimator__n_estimators=10, tfidf__use_idf=True \n",
      "[CV]  clf__estimator__min_samples_split=2, clf__estimator__n_estimators=10, tfidf__use_idf=True, total=  47.7s\n",
      "[CV] clf__estimator__min_samples_split=2, clf__estimator__n_estimators=10, tfidf__use_idf=False \n",
      "[CV]  clf__estimator__min_samples_split=2, clf__estimator__n_estimators=10, tfidf__use_idf=False, total=  46.2s\n",
      "[CV] clf__estimator__min_samples_split=2, clf__estimator__n_estimators=10, tfidf__use_idf=False \n",
      "[CV]  clf__estimator__min_samples_split=2, clf__estimator__n_estimators=10, tfidf__use_idf=False, total=  46.7s\n",
      "[CV] clf__estimator__min_samples_split=2, clf__estimator__n_estimators=10, tfidf__use_idf=False \n",
      "[CV]  clf__estimator__min_samples_split=2, clf__estimator__n_estimators=10, tfidf__use_idf=False, total=  47.5s\n",
      "[CV] clf__estimator__min_samples_split=2, clf__estimator__n_estimators=50, tfidf__use_idf=True \n",
      "[CV]  clf__estimator__min_samples_split=2, clf__estimator__n_estimators=50, tfidf__use_idf=True, total= 3.3min\n",
      "[CV] clf__estimator__min_samples_split=2, clf__estimator__n_estimators=50, tfidf__use_idf=True \n",
      "[CV]  clf__estimator__min_samples_split=2, clf__estimator__n_estimators=50, tfidf__use_idf=True, total= 3.2min\n",
      "[CV] clf__estimator__min_samples_split=2, clf__estimator__n_estimators=50, tfidf__use_idf=True \n",
      "[CV]  clf__estimator__min_samples_split=2, clf__estimator__n_estimators=50, tfidf__use_idf=True, total= 3.3min\n",
      "[CV] clf__estimator__min_samples_split=2, clf__estimator__n_estimators=50, tfidf__use_idf=False \n",
      "[CV]  clf__estimator__min_samples_split=2, clf__estimator__n_estimators=50, tfidf__use_idf=False, total= 3.2min\n",
      "[CV] clf__estimator__min_samples_split=2, clf__estimator__n_estimators=50, tfidf__use_idf=False \n",
      "[CV]  clf__estimator__min_samples_split=2, clf__estimator__n_estimators=50, tfidf__use_idf=False, total= 3.2min\n",
      "[CV] clf__estimator__min_samples_split=2, clf__estimator__n_estimators=50, tfidf__use_idf=False \n",
      "[CV]  clf__estimator__min_samples_split=2, clf__estimator__n_estimators=50, tfidf__use_idf=False, total= 3.2min\n",
      "[CV] clf__estimator__min_samples_split=5, clf__estimator__n_estimators=10, tfidf__use_idf=True \n",
      "[CV]  clf__estimator__min_samples_split=5, clf__estimator__n_estimators=10, tfidf__use_idf=True, total=  39.5s\n",
      "[CV] clf__estimator__min_samples_split=5, clf__estimator__n_estimators=10, tfidf__use_idf=True \n",
      "[CV]  clf__estimator__min_samples_split=5, clf__estimator__n_estimators=10, tfidf__use_idf=True, total=  39.2s\n",
      "[CV] clf__estimator__min_samples_split=5, clf__estimator__n_estimators=10, tfidf__use_idf=True \n",
      "[CV]  clf__estimator__min_samples_split=5, clf__estimator__n_estimators=10, tfidf__use_idf=True, total=  39.5s\n",
      "[CV] clf__estimator__min_samples_split=5, clf__estimator__n_estimators=10, tfidf__use_idf=False \n",
      "[CV]  clf__estimator__min_samples_split=5, clf__estimator__n_estimators=10, tfidf__use_idf=False, total=  38.8s\n",
      "[CV] clf__estimator__min_samples_split=5, clf__estimator__n_estimators=10, tfidf__use_idf=False \n",
      "[CV]  clf__estimator__min_samples_split=5, clf__estimator__n_estimators=10, tfidf__use_idf=False, total=  38.5s\n",
      "[CV] clf__estimator__min_samples_split=5, clf__estimator__n_estimators=10, tfidf__use_idf=False \n",
      "[CV]  clf__estimator__min_samples_split=5, clf__estimator__n_estimators=10, tfidf__use_idf=False, total=  39.2s\n",
      "[CV] clf__estimator__min_samples_split=5, clf__estimator__n_estimators=50, tfidf__use_idf=True \n",
      "[CV]  clf__estimator__min_samples_split=5, clf__estimator__n_estimators=50, tfidf__use_idf=True, total= 2.7min\n",
      "[CV] clf__estimator__min_samples_split=5, clf__estimator__n_estimators=50, tfidf__use_idf=True \n",
      "[CV]  clf__estimator__min_samples_split=5, clf__estimator__n_estimators=50, tfidf__use_idf=True, total= 2.8min\n",
      "[CV] clf__estimator__min_samples_split=5, clf__estimator__n_estimators=50, tfidf__use_idf=True \n",
      "[CV]  clf__estimator__min_samples_split=5, clf__estimator__n_estimators=50, tfidf__use_idf=True, total= 2.8min\n",
      "[CV] clf__estimator__min_samples_split=5, clf__estimator__n_estimators=50, tfidf__use_idf=False \n",
      "[CV]  clf__estimator__min_samples_split=5, clf__estimator__n_estimators=50, tfidf__use_idf=False, total= 2.7min\n",
      "[CV] clf__estimator__min_samples_split=5, clf__estimator__n_estimators=50, tfidf__use_idf=False \n",
      "[CV]  clf__estimator__min_samples_split=5, clf__estimator__n_estimators=50, tfidf__use_idf=False, total= 2.7min\n",
      "[CV] clf__estimator__min_samples_split=5, clf__estimator__n_estimators=50, tfidf__use_idf=False \n",
      "[CV]  clf__estimator__min_samples_split=5, clf__estimator__n_estimators=50, tfidf__use_idf=False, total= 2.7min\n",
      "[CV] clf__estimator__min_samples_split=10, clf__estimator__n_estimators=10, tfidf__use_idf=True \n",
      "[CV]  clf__estimator__min_samples_split=10, clf__estimator__n_estimators=10, tfidf__use_idf=True, total=  38.7s\n",
      "[CV] clf__estimator__min_samples_split=10, clf__estimator__n_estimators=10, tfidf__use_idf=True \n",
      "[CV]  clf__estimator__min_samples_split=10, clf__estimator__n_estimators=10, tfidf__use_idf=True, total=  39.8s\n",
      "[CV] clf__estimator__min_samples_split=10, clf__estimator__n_estimators=10, tfidf__use_idf=True \n",
      "[CV]  clf__estimator__min_samples_split=10, clf__estimator__n_estimators=10, tfidf__use_idf=True, total=  39.8s\n",
      "[CV] clf__estimator__min_samples_split=10, clf__estimator__n_estimators=10, tfidf__use_idf=False \n",
      "[CV]  clf__estimator__min_samples_split=10, clf__estimator__n_estimators=10, tfidf__use_idf=False, total=  38.7s\n",
      "[CV] clf__estimator__min_samples_split=10, clf__estimator__n_estimators=10, tfidf__use_idf=False \n",
      "[CV]  clf__estimator__min_samples_split=10, clf__estimator__n_estimators=10, tfidf__use_idf=False, total=  36.8s\n",
      "[CV] clf__estimator__min_samples_split=10, clf__estimator__n_estimators=10, tfidf__use_idf=False \n",
      "[CV]  clf__estimator__min_samples_split=10, clf__estimator__n_estimators=10, tfidf__use_idf=False, total=  37.5s\n",
      "[CV] clf__estimator__min_samples_split=10, clf__estimator__n_estimators=50, tfidf__use_idf=True \n",
      "[CV]  clf__estimator__min_samples_split=10, clf__estimator__n_estimators=50, tfidf__use_idf=True, total= 2.5min\n",
      "[CV] clf__estimator__min_samples_split=10, clf__estimator__n_estimators=50, tfidf__use_idf=True \n",
      "[CV]  clf__estimator__min_samples_split=10, clf__estimator__n_estimators=50, tfidf__use_idf=True, total= 2.6min\n",
      "[CV] clf__estimator__min_samples_split=10, clf__estimator__n_estimators=50, tfidf__use_idf=True \n",
      "[CV]  clf__estimator__min_samples_split=10, clf__estimator__n_estimators=50, tfidf__use_idf=True, total= 2.6min\n",
      "[CV] clf__estimator__min_samples_split=10, clf__estimator__n_estimators=50, tfidf__use_idf=False \n",
      "[CV]  clf__estimator__min_samples_split=10, clf__estimator__n_estimators=50, tfidf__use_idf=False, total= 2.4min\n",
      "[CV] clf__estimator__min_samples_split=10, clf__estimator__n_estimators=50, tfidf__use_idf=False \n",
      "[CV]  clf__estimator__min_samples_split=10, clf__estimator__n_estimators=50, tfidf__use_idf=False, total= 2.5min\n",
      "[CV] clf__estimator__min_samples_split=10, clf__estimator__n_estimators=50, tfidf__use_idf=False \n",
      "[CV]  clf__estimator__min_samples_split=10, clf__estimator__n_estimators=50, tfidf__use_idf=False, total= 2.4min\n"
     ]
    },
    {
     "name": "stderr",
     "output_type": "stream",
     "text": [
      "[Parallel(n_jobs=-1)]: Done  36 out of  36 | elapsed: 72.6min finished\n"
     ]
    },
    {
     "data": {
      "text/plain": [
       "GridSearchCV(cv=None, error_score='raise',\n",
       "       estimator=Pipeline(memory=None,\n",
       "     steps=[('vect', CountVectorizer(analyzer='word', binary=False, decode_error='strict',\n",
       "        dtype=<class 'numpy.int64'>, encoding='utf-8', input='content',\n",
       "        lowercase=True, max_df=1.0, max_features=None, min_df=1,\n",
       "        ngram_range=(1, 1), preprocessor=None, stop_words=None,\n",
       "        strip...oob_score=False, random_state=None, verbose=0,\n",
       "            warm_start=False),\n",
       "           n_jobs=1))]),\n",
       "       fit_params=None, iid=True, n_jobs=-1,\n",
       "       param_grid={'tfidf__use_idf': [True, False], 'clf__estimator__n_estimators': [10, 50], 'clf__estimator__min_samples_split': [2, 5, 10]},\n",
       "       pre_dispatch='2*n_jobs', refit=True, return_train_score='warn',\n",
       "       scoring=None, verbose=2)"
      ]
     },
     "execution_count": 8,
     "metadata": {},
     "output_type": "execute_result"
    }
   ],
   "source": [
    "parameters = {#'vect__min_df': [1, 5],\n",
    "              'tfidf__use_idf':[True, False],\n",
    "              'clf__estimator__n_estimators':[10, 50], \n",
    "              'clf__estimator__min_samples_split':[2, 5, 10]}\n",
    "\n",
    "cv = GridSearchCV(pipeline, param_grid=parameters,n_jobs=-1,verbose=2)\n",
    "\n",
    "cv.fit(X_train, y_train)"
   ]
  },
  {
   "cell_type": "code",
   "execution_count": null,
   "metadata": {},
   "outputs": [],
   "source": [
    "cv.best_estimator_"
   ]
  },
  {
   "cell_type": "markdown",
   "metadata": {},
   "source": [
    "### 7. Test your model\n",
    "Show the accuracy, precision, and recall of the tuned model.  \n",
    "\n",
    "Since this project focuses on code quality, process, and  pipelines, there is no minimum performance metric needed to pass. However, make sure to fine tune your models for accuracy, precision and recall to make your project stand out - especially for your portfolio!"
   ]
  },
  {
   "cell_type": "code",
   "execution_count": 9,
   "metadata": {},
   "outputs": [
    {
     "name": "stdout",
     "output_type": "stream",
     "text": [
      "                        precision    recall  f1-score   support\n",
      "\n",
      "               related       0.89      0.40      0.55       895\n",
      "               request       0.00      0.00      0.00        26\n",
      "                 offer       0.78      0.60      0.68      2131\n",
      "           aid_related       0.61      0.05      0.10       422\n",
      "          medical_help       0.74      0.05      0.10       270\n",
      "      medical_products       0.67      0.03      0.06       127\n",
      "     search_and_rescue       0.25      0.01      0.02        88\n",
      "              security       0.62      0.03      0.06       155\n",
      "              military       0.00      0.00      0.00         0\n",
      "           child_alone       0.88      0.22      0.35       339\n",
      "                 water       0.88      0.42      0.57       595\n",
      "                  food       0.83      0.20      0.32       470\n",
      "               shelter       0.86      0.08      0.15        73\n",
      "              clothing       0.89      0.08      0.14       104\n",
      "                 money       0.00      0.00      0.00        60\n",
      "        missing_people       0.38      0.02      0.03       171\n",
      "              refugees       0.80      0.12      0.21       237\n",
      "                 death       0.64      0.02      0.04       695\n",
      "             other_aid       1.00      0.00      0.01       328\n",
      "infrastructure_related       0.72      0.05      0.10       240\n",
      "             transport       0.81      0.06      0.12       267\n",
      "             buildings       1.00      0.02      0.03       122\n",
      "           electricity       0.00      0.00      0.00        32\n",
      "                 tools       0.00      0.00      0.00        46\n",
      "             hospitals       0.00      0.00      0.00        22\n",
      "                 shops       0.00      0.00      0.00        67\n",
      "           aid_centers       0.00      0.00      0.00       223\n",
      "  other_infrastructure       0.85      0.64      0.73      1438\n",
      "       weather_related       0.90      0.37      0.53       411\n",
      "                floods       0.77      0.44      0.56       486\n",
      "                 storm       0.00      0.00      0.00        53\n",
      "                  fire       0.88      0.78      0.82       478\n",
      "            earthquake       0.80      0.07      0.13       117\n",
      "                  cold       0.50      0.01      0.01       276\n",
      "         other_weather       0.85      0.34      0.49      1021\n",
      "\n",
      "           avg / total       0.76      0.34      0.42     12485\n",
      "\n"
     ]
    },
    {
     "name": "stderr",
     "output_type": "stream",
     "text": [
      "/opt/conda/lib/python3.6/site-packages/sklearn/metrics/classification.py:1428: UserWarning: labels size, 35, does not match size of target_names, 36\n",
      "  .format(len(labels), len(target_names))\n",
      "/opt/conda/lib/python3.6/site-packages/sklearn/metrics/classification.py:1135: UndefinedMetricWarning: Precision and F-score are ill-defined and being set to 0.0 in labels with no predicted samples.\n",
      "  'precision', 'predicted', average, warn_for)\n",
      "/opt/conda/lib/python3.6/site-packages/sklearn/metrics/classification.py:1137: UndefinedMetricWarning: Recall and F-score are ill-defined and being set to 0.0 in labels with no true samples.\n",
      "  'recall', 'true', average, warn_for)\n"
     ]
    }
   ],
   "source": [
    "performance(cv, X_test, y_test,category_names)"
   ]
  },
  {
   "cell_type": "markdown",
   "metadata": {},
   "source": [
    "### 8. Try improving your model further. Here are a few ideas:\n",
    "* try other machine learning algorithms\n",
    "* add other features besides the TF-IDF"
   ]
  },
  {
   "cell_type": "code",
   "execution_count": 31,
   "metadata": {},
   "outputs": [
    {
     "name": "stdout",
     "output_type": "stream",
     "text": [
      "                        precision    recall  f1-score   support\n",
      "\n",
      "               related       0.79      0.52      0.63       895\n",
      "               request       0.00      0.00      0.00        26\n",
      "                 offer       0.75      0.59      0.66      2131\n",
      "           aid_related       0.57      0.25      0.35       422\n",
      "          medical_help       0.66      0.30      0.41       270\n",
      "      medical_products       0.55      0.18      0.27       127\n",
      "     search_and_rescue       0.06      0.01      0.02        88\n",
      "              security       0.52      0.31      0.39       155\n",
      "              military       0.00      0.00      0.00         0\n",
      "           child_alone       0.75      0.61      0.67       339\n",
      "                 water       0.83      0.68      0.75       595\n",
      "                  food       0.77      0.55      0.64       470\n",
      "               shelter       0.69      0.33      0.44        73\n",
      "              clothing       0.48      0.30      0.37       104\n",
      "                 money       0.79      0.18      0.30        60\n",
      "        missing_people       0.57      0.27      0.37       171\n",
      "              refugees       0.80      0.44      0.57       237\n",
      "                 death       0.53      0.13      0.21       695\n",
      "             other_aid       0.41      0.08      0.13       328\n",
      "infrastructure_related       0.64      0.25      0.36       240\n",
      "             transport       0.71      0.35      0.47       267\n",
      "             buildings       0.60      0.21      0.32       122\n",
      "           electricity       0.00      0.00      0.00        32\n",
      "                 tools       0.29      0.09      0.13        46\n",
      "             hospitals       0.00      0.00      0.00        22\n",
      "                 shops       0.38      0.12      0.18        67\n",
      "           aid_centers       0.26      0.06      0.10       223\n",
      "  other_infrastructure       0.85      0.66      0.74      1438\n",
      "       weather_related       0.87      0.58      0.69       411\n",
      "                floods       0.74      0.48      0.58       486\n",
      "                 storm       0.54      0.13      0.21        53\n",
      "                  fire       0.88      0.79      0.83       478\n",
      "            earthquake       0.69      0.34      0.46       117\n",
      "                  cold       0.49      0.12      0.20       276\n",
      "         other_weather       0.75      0.45      0.56      1021\n",
      "\n",
      "           avg / total       0.71      0.46      0.54     12485\n",
      "\n"
     ]
    },
    {
     "name": "stderr",
     "output_type": "stream",
     "text": [
      "/opt/conda/lib/python3.6/site-packages/sklearn/metrics/classification.py:1428: UserWarning: labels size, 35, does not match size of target_names, 36\n",
      "  .format(len(labels), len(target_names))\n",
      "/opt/conda/lib/python3.6/site-packages/sklearn/metrics/classification.py:1135: UndefinedMetricWarning: Precision and F-score are ill-defined and being set to 0.0 in labels with no predicted samples.\n",
      "  'precision', 'predicted', average, warn_for)\n",
      "/opt/conda/lib/python3.6/site-packages/sklearn/metrics/classification.py:1137: UndefinedMetricWarning: Recall and F-score are ill-defined and being set to 0.0 in labels with no true samples.\n",
      "  'recall', 'true', average, warn_for)\n"
     ]
    }
   ],
   "source": [
    "pipeline2 = Pipeline([\n",
    "    ('vect', CountVectorizer()),\n",
    "    ('tfidf', TfidfTransformer()),\n",
    "    ('clf', MultiOutputClassifier(AdaBoostClassifier()))\n",
    "])\n",
    "\n",
    "# Train the adjusted pipeline. \n",
    "pipeline2.fit(X_train, y_train)\n",
    "\n",
    "# Check the performance of the adjusted model.\n",
    "performance(pipeline2, X_test, y_test,category_names)"
   ]
  },
  {
   "cell_type": "code",
   "execution_count": 32,
   "metadata": {},
   "outputs": [
    {
     "name": "stdout",
     "output_type": "stream",
     "text": [
      "                        precision    recall  f1-score   support\n",
      "\n",
      "               related       0.76      0.54      0.63       895\n",
      "               request       0.25      0.04      0.07        26\n",
      "                 offer       0.76      0.62      0.68      2131\n",
      "           aid_related       0.56      0.27      0.37       422\n",
      "          medical_help       0.60      0.31      0.41       270\n",
      "      medical_products       0.42      0.15      0.22       127\n",
      "     search_and_rescue       0.06      0.01      0.02        88\n",
      "              security       0.47      0.30      0.36       155\n",
      "              military       0.00      0.00      0.00         0\n",
      "           child_alone       0.74      0.62      0.68       339\n",
      "                 water       0.83      0.65      0.73       595\n",
      "                  food       0.79      0.57      0.66       470\n",
      "               shelter       0.60      0.37      0.46        73\n",
      "              clothing       0.44      0.33      0.37       104\n",
      "                 money       0.63      0.20      0.30        60\n",
      "        missing_people       0.53      0.32      0.40       171\n",
      "              refugees       0.73      0.44      0.55       237\n",
      "                 death       0.50      0.17      0.25       695\n",
      "             other_aid       0.40      0.12      0.18       328\n",
      "infrastructure_related       0.63      0.28      0.38       240\n",
      "             transport       0.66      0.36      0.47       267\n",
      "             buildings       0.58      0.24      0.34       122\n",
      "           electricity       0.00      0.00      0.00        32\n",
      "                 tools       0.18      0.11      0.14        46\n",
      "             hospitals       0.00      0.00      0.00        22\n",
      "                 shops       0.28      0.07      0.12        67\n",
      "           aid_centers       0.27      0.09      0.13       223\n",
      "  other_infrastructure       0.85      0.69      0.76      1438\n",
      "       weather_related       0.85      0.58      0.69       411\n",
      "                floods       0.71      0.50      0.59       486\n",
      "                 storm       0.46      0.21      0.29        53\n",
      "                  fire       0.87      0.79      0.83       478\n",
      "            earthquake       0.67      0.38      0.48       117\n",
      "                  cold       0.48      0.15      0.23       276\n",
      "         other_weather       0.71      0.48      0.57      1021\n",
      "\n",
      "           avg / total       0.69      0.48      0.56     12485\n",
      "\n"
     ]
    },
    {
     "name": "stderr",
     "output_type": "stream",
     "text": [
      "/opt/conda/lib/python3.6/site-packages/sklearn/metrics/classification.py:1428: UserWarning: labels size, 35, does not match size of target_names, 36\n",
      "  .format(len(labels), len(target_names))\n",
      "/opt/conda/lib/python3.6/site-packages/sklearn/metrics/classification.py:1135: UndefinedMetricWarning: Precision and F-score are ill-defined and being set to 0.0 in labels with no predicted samples.\n",
      "  'precision', 'predicted', average, warn_for)\n",
      "/opt/conda/lib/python3.6/site-packages/sklearn/metrics/classification.py:1137: UndefinedMetricWarning: Recall and F-score are ill-defined and being set to 0.0 in labels with no true samples.\n",
      "  'recall', 'true', average, warn_for)\n"
     ]
    }
   ],
   "source": [
    "parameters2 = { \n",
    "              'tfidf__use_idf': (True, False), \n",
    "              'clf__estimator__n_estimators': [50, 100],\n",
    "              'clf__estimator__learning_rate': [1,2] }\n",
    "\n",
    "cv2 = GridSearchCV(pipeline2, param_grid=parameters2)\n",
    "\n",
    "cv2.fit(X_train, y_train)\n",
    "performance(cv2, X_test, y_test,category_names)\n"
   ]
  },
  {
   "cell_type": "markdown",
   "metadata": {},
   "source": [
    "### 9. Export your model as a pickle file"
   ]
  },
  {
   "cell_type": "code",
   "execution_count": 12,
   "metadata": {},
   "outputs": [],
   "source": [
    "def save_model(model, model_filepath):\n",
    "    \"\"\"\n",
    "    Saves the model to a Python pickle file    \n",
    "    Args:\n",
    "    model: Trained model\n",
    "    model_filepath: Filepath to save the model\n",
    "    \"\"\"\n",
    "\n",
    "    # save model to pickle file\n",
    "    pickle.dump(model, open(model_filepath, 'wb'))\n",
    "\n",
    "    \n",
    "save_model(cv,'classifer.pkl')"
   ]
  },
  {
   "cell_type": "markdown",
   "metadata": {},
   "source": [
    "### 10. Use this notebook to complete `train.py`\n",
    "Use the template file attached in the Resources folder to write a script that runs the steps above to create a database and export a model based on a new dataset specified by the user."
   ]
  },
  {
   "cell_type": "code",
   "execution_count": 33,
   "metadata": {},
   "outputs": [
    {
     "name": "stdout",
     "output_type": "stream",
     "text": [
      "[nltk_data] Downloading package punkt to /root/nltk_data...\n",
      "[nltk_data]   Package punkt is already up-to-date!\n",
      "[nltk_data] Downloading package stopwords to /root/nltk_data...\n",
      "[nltk_data]   Package stopwords is already up-to-date!\n",
      "[nltk_data] Downloading package wordnet to /root/nltk_data...\n",
      "[nltk_data]   Package wordnet is already up-to-date!\n"
     ]
    }
   ],
   "source": [
    "# import libraries\n",
    "import pandas as pd\n",
    "import numpy as np\n",
    "from sqlalchemy import create_engine\n",
    "import sqlite3\n",
    "import nltk\n",
    "import re\n",
    "nltk.download(['punkt','stopwords','wordnet'])\n",
    "from nltk.corpus import stopwords\n",
    "from nltk.tokenize import word_tokenize\n",
    "from nltk.stem import WordNetLemmatizer\n",
    "from nltk.stem.porter import PorterStemmer\n",
    "from sklearn.pipeline import Pipeline\n",
    "from sklearn.feature_extraction.text import CountVectorizer, TfidfTransformer\n",
    "from sklearn.ensemble import RandomForestClassifier,AdaBoostClassifier\n",
    "from sklearn.metrics import confusion_matrix\n",
    "from sklearn.model_selection import train_test_split\n",
    "from sklearn.metrics import classification_report\n",
    "from sklearn.model_selection import GridSearchCV\n",
    "from nltk.tokenize import word_tokenize\n",
    "from nltk.stem import WordNetLemmatizer\n",
    "from sklearn.multioutput import MultiOutputClassifier\n",
    "\n",
    "\n",
    "# load data from database\n",
    "def load_data(database_filepath='yfdb.db',tablename='table_df'):\n",
    "    \"\"\"\n",
    "    INPUT:\n",
    "        database_filepath (string) : database location\n",
    "    OUTPUT:\n",
    "        X  : messages to process\n",
    "        Y  : training/evaluating categories\n",
    "        labels  : list of message classification labels\n",
    "    \"\"\"\n",
    "    engine = create_engine('sqlite:///' + database_filepath)\n",
    "    df = pd.read_sql_table(tablename, con = engine)\n",
    "    X = df['message'] \n",
    "    Y = df.drop(['message', 'genre', 'id', 'original'], axis = 1)\n",
    "    return X, Y,list(Y.columns)\n",
    "\n",
    "def tokenize(text):\n",
    "    \"\"\"\n",
    "    Remove capitalization and special characters and lemmatize texts\n",
    "    Args:\n",
    "    text: string. String containing message for processing\n",
    "    \n",
    "    Returns:\n",
    "    clean_tokens: list of strings. List containing normalized and stemmed word tokens\n",
    "    \"\"\" \n",
    "    # Convert text to lowercase and remove punctuation\n",
    "    text = re.sub(r\"[^a-zA-Z0-9]\", \" \", text.lower())\n",
    "    \n",
    "    # Tokenize words\n",
    "    tokens = word_tokenize(text)\n",
    "    lemmatizer = WordNetLemmatizer()\n",
    "\n",
    "    clean_tokens = []\n",
    "    for tok in tokens:\n",
    "        clean_tok = lemmatizer.lemmatize(tok).lower().strip()\n",
    "        clean_tokens.append(clean_tok)\n",
    "    return clean_tokens\n",
    "\n",
    "def build_model(): \n",
    "    \"\"\"\n",
    "    Function: build model that consist of pipeline\n",
    "    Args:\n",
    "      N/A\n",
    "    Return\n",
    "      cv(model): Grid Search model \n",
    "    \"\"\"\n",
    "    pipeline = Pipeline([\n",
    "        ('vect', CountVectorizer(tokenizer = tokenize)),\n",
    "        ('tfidf', TfidfTransformer()),\n",
    "        ('clf', MultiOutputClassifier(RandomForestClassifier(n_estimators = 10,\n",
    "                                                             min_samples_split = 10)))\n",
    "    ])\n",
    "    \n",
    "    parameters = {#'vect__min_df': [1, 5],\n",
    "              'tfidf__use_idf':[True, False],\n",
    "              'clf__estimator__n_estimators':[10, 50], \n",
    "              'clf__estimator__min_samples_split':[2, 5, 10]}\n",
    "\n",
    "    cv = GridSearchCV(pipeline, param_grid=parameters,n_jobs=-1,verbose=2)\n",
    "\n",
    "   # cv.fit(X_train, y_train)\n",
    "    return cv\n",
    "\n",
    "def performance(model, X_test, y_test,category_names):\n",
    "    y_pred = model.predict(X_test)\n",
    "    print(classification_report(y_test.iloc[:,1:].values, np.array([x[1:] for x in y_pred]), target_names=category_names))\n",
    "\n",
    "def save_model(cv):\n",
    "    \"\"\"\n",
    "    Function: save model as pickle file.\n",
    "    Args:\n",
    "      cv:target model\n",
    "    Return:\n",
    "      N/A\n",
    "    \"\"\"\n",
    "    with open('classifer.pkl', 'wb') as f:\n",
    "        pickle.dump(cv, f)   \n",
    "        \n",
    "def main(): \n",
    "    print(\"Load data\")\n",
    "    X,Y,category_names=load_data()\n",
    "    X_train,X_test,y_train,y_test=train_test_split(X,Y,test_size=0.2, random_state=42)\n",
    "    print(\"Build model\")\n",
    "    model=build_model()\n",
    "    print(\"Train model\")\n",
    "    model.fit(X_train,y_train)\n",
    "    y_pred=model.predict(X_test)\n",
    "    print(\"Evaluation model\")\n",
    "    performance(model, X_test, y_test,category_names)\n",
    "    print(\"Save model\")\n",
    "    save_model(model)\n"
   ]
  },
  {
   "cell_type": "code",
   "execution_count": null,
   "metadata": {},
   "outputs": [],
   "source": [
    "if __name__ == \"__main__\":\n",
    "    main()"
   ]
  }
 ],
 "metadata": {
  "kernelspec": {
   "display_name": "Python 3",
   "language": "python",
   "name": "python3"
  },
  "language_info": {
   "codemirror_mode": {
    "name": "ipython",
    "version": 3
   },
   "file_extension": ".py",
   "mimetype": "text/x-python",
   "name": "python",
   "nbconvert_exporter": "python",
   "pygments_lexer": "ipython3",
   "version": "3.6.3"
  }
 },
 "nbformat": 4,
 "nbformat_minor": 2
}
